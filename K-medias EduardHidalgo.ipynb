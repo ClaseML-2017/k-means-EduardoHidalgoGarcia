{
 "cells": [
  {
   "cell_type": "code",
   "execution_count": 32,
   "metadata": {
    "collapsed": true
   },
   "outputs": [],
   "source": [
    "import numpy as np\n",
    "import pandas as pd\n",
    "import matplotlib.pyplot as plt\n",
    "from sklearn import preprocessing\n",
    "from sklearn.ensemble import RandomForestClassifier\n",
    "from sklearn.neural_network import MLPClassifier\n",
    "from sklearn.cluster import KMeans\n",
    "from sklearn import metrics\n",
    "from sklearn.model_selection import train_test_split"
   ]
  },
  {
   "cell_type": "markdown",
   "metadata": {},
   "source": [
    "# El objeto de la tarea es utilizar un mecanismo de cluster antes de hacer un modelo de predicción y compararlo con los resultados del mismo modelo sin haber hecho previamente la clusterizacion de los datos."
   ]
  },
  {
   "cell_type": "code",
   "execution_count": 33,
   "metadata": {},
   "outputs": [
    {
     "data": {
      "text/plain": [
       "'C:\\\\Users\\\\Eduardo\\\\Desktop\\\\Repositorio Machine Learning\\\\K-medias'"
      ]
     },
     "execution_count": 33,
     "metadata": {},
     "output_type": "execute_result"
    }
   ],
   "source": [
    "import os\n",
    "os.getcwd()"
   ]
  },
  {
   "cell_type": "markdown",
   "metadata": {},
   "source": [
    "### Cargar los datos desde repositorio online: "
   ]
  },
  {
   "cell_type": "code",
   "execution_count": 34,
   "metadata": {},
   "outputs": [
    {
     "data": {
      "text/html": [
       "<div>\n",
       "<style>\n",
       "    .dataframe thead tr:only-child th {\n",
       "        text-align: right;\n",
       "    }\n",
       "\n",
       "    .dataframe thead th {\n",
       "        text-align: left;\n",
       "    }\n",
       "\n",
       "    .dataframe tbody tr th {\n",
       "        vertical-align: top;\n",
       "    }\n",
       "</style>\n",
       "<table border=\"1\" class=\"dataframe\">\n",
       "  <thead>\n",
       "    <tr style=\"text-align: right;\">\n",
       "      <th></th>\n",
       "      <th>Length</th>\n",
       "      <th>Diameter</th>\n",
       "      <th>Height</th>\n",
       "      <th>Whole_weight</th>\n",
       "      <th>Shucked_weight</th>\n",
       "      <th>Viscera_weight</th>\n",
       "      <th>Shell_weight</th>\n",
       "      <th>Rings</th>\n",
       "    </tr>\n",
       "  </thead>\n",
       "  <tbody>\n",
       "    <tr>\n",
       "      <th>count</th>\n",
       "      <td>4177.000000</td>\n",
       "      <td>4177.000000</td>\n",
       "      <td>4177.000000</td>\n",
       "      <td>4177.000000</td>\n",
       "      <td>4177.000000</td>\n",
       "      <td>4177.000000</td>\n",
       "      <td>4177.000000</td>\n",
       "      <td>4177.000000</td>\n",
       "    </tr>\n",
       "    <tr>\n",
       "      <th>mean</th>\n",
       "      <td>0.523992</td>\n",
       "      <td>0.407881</td>\n",
       "      <td>0.139516</td>\n",
       "      <td>0.828742</td>\n",
       "      <td>0.359367</td>\n",
       "      <td>0.180594</td>\n",
       "      <td>0.238831</td>\n",
       "      <td>9.933684</td>\n",
       "    </tr>\n",
       "    <tr>\n",
       "      <th>std</th>\n",
       "      <td>0.120093</td>\n",
       "      <td>0.099240</td>\n",
       "      <td>0.041827</td>\n",
       "      <td>0.490389</td>\n",
       "      <td>0.221963</td>\n",
       "      <td>0.109614</td>\n",
       "      <td>0.139203</td>\n",
       "      <td>3.224169</td>\n",
       "    </tr>\n",
       "    <tr>\n",
       "      <th>min</th>\n",
       "      <td>0.075000</td>\n",
       "      <td>0.055000</td>\n",
       "      <td>0.000000</td>\n",
       "      <td>0.002000</td>\n",
       "      <td>0.001000</td>\n",
       "      <td>0.000500</td>\n",
       "      <td>0.001500</td>\n",
       "      <td>1.000000</td>\n",
       "    </tr>\n",
       "    <tr>\n",
       "      <th>25%</th>\n",
       "      <td>0.450000</td>\n",
       "      <td>0.350000</td>\n",
       "      <td>0.115000</td>\n",
       "      <td>0.441500</td>\n",
       "      <td>0.186000</td>\n",
       "      <td>0.093500</td>\n",
       "      <td>0.130000</td>\n",
       "      <td>8.000000</td>\n",
       "    </tr>\n",
       "    <tr>\n",
       "      <th>50%</th>\n",
       "      <td>0.545000</td>\n",
       "      <td>0.425000</td>\n",
       "      <td>0.140000</td>\n",
       "      <td>0.799500</td>\n",
       "      <td>0.336000</td>\n",
       "      <td>0.171000</td>\n",
       "      <td>0.234000</td>\n",
       "      <td>9.000000</td>\n",
       "    </tr>\n",
       "    <tr>\n",
       "      <th>75%</th>\n",
       "      <td>0.615000</td>\n",
       "      <td>0.480000</td>\n",
       "      <td>0.165000</td>\n",
       "      <td>1.153000</td>\n",
       "      <td>0.502000</td>\n",
       "      <td>0.253000</td>\n",
       "      <td>0.329000</td>\n",
       "      <td>11.000000</td>\n",
       "    </tr>\n",
       "    <tr>\n",
       "      <th>max</th>\n",
       "      <td>0.815000</td>\n",
       "      <td>0.650000</td>\n",
       "      <td>1.130000</td>\n",
       "      <td>2.825500</td>\n",
       "      <td>1.488000</td>\n",
       "      <td>0.760000</td>\n",
       "      <td>1.005000</td>\n",
       "      <td>29.000000</td>\n",
       "    </tr>\n",
       "  </tbody>\n",
       "</table>\n",
       "</div>"
      ],
      "text/plain": [
       "            Length     Diameter       Height  Whole_weight  Shucked_weight  \\\n",
       "count  4177.000000  4177.000000  4177.000000   4177.000000     4177.000000   \n",
       "mean      0.523992     0.407881     0.139516      0.828742        0.359367   \n",
       "std       0.120093     0.099240     0.041827      0.490389        0.221963   \n",
       "min       0.075000     0.055000     0.000000      0.002000        0.001000   \n",
       "25%       0.450000     0.350000     0.115000      0.441500        0.186000   \n",
       "50%       0.545000     0.425000     0.140000      0.799500        0.336000   \n",
       "75%       0.615000     0.480000     0.165000      1.153000        0.502000   \n",
       "max       0.815000     0.650000     1.130000      2.825500        1.488000   \n",
       "\n",
       "       Viscera_weight  Shell_weight        Rings  \n",
       "count     4177.000000   4177.000000  4177.000000  \n",
       "mean         0.180594      0.238831     9.933684  \n",
       "std          0.109614      0.139203     3.224169  \n",
       "min          0.000500      0.001500     1.000000  \n",
       "25%          0.093500      0.130000     8.000000  \n",
       "50%          0.171000      0.234000     9.000000  \n",
       "75%          0.253000      0.329000    11.000000  \n",
       "max          0.760000      1.005000    29.000000  "
      ]
     },
     "execution_count": 34,
     "metadata": {},
     "output_type": "execute_result"
    }
   ],
   "source": [
    "ABALONE = pd.read_csv('http://archive.ics.uci.edu/ml/machine-learning-databases/abalone/abalone.data',delimiter=',',header=None)\n",
    "ABALONE.columns = [\"Sex\",\"Length\",\"Diameter\",\"Height\",\"Whole_weight\",\n",
    "                  \"Shucked_weight\",\"Viscera_weight\",\"Shell_weight\",\"Rings\"]\n",
    "\n",
    "# Describiendo la base abalone\n",
    "ABALONE.describe()"
   ]
  },
  {
   "cell_type": "code",
   "execution_count": 40,
   "metadata": {
    "collapsed": true
   },
   "outputs": [],
   "source": [
    "ABALONE.Sex = ABALONE.Sex.astype('category').cat.codes\n",
    "\n",
    "#Separo Y de X (Y será Rings y no aparecerá en la matriz X)\n",
    "Y = ABALONE[\"Rings\"]\n",
    "X = ABALONE.drop('Rings', 1)\n",
    "\n",
    "#Dividiendo el conjunto de entrenamiento\n",
    "xtrain, xtest, ytrain, ytest = train_test_split(X, Y, test_size=0.20, random_state=136800)\n",
    "\n",
    "#Normalizando la información con la paquetria StndScaler\n",
    "scaler = preprocessing.StandardScaler().fit(xtrain)\n",
    "xtrain=scaler.transform(xtrain)\n",
    "xtest=scaler.transform(xtest)"
   ]
  },
  {
   "cell_type": "markdown",
   "metadata": {},
   "source": [
    "### Modelo SIN Clusters"
   ]
  },
  {
   "cell_type": "code",
   "execution_count": 41,
   "metadata": {},
   "outputs": [
    {
     "name": "stdout",
     "output_type": "stream",
     "text": [
      "Accuracy:\n",
      "Random Forest sin creación de clusters previa: 0.234450\n"
     ]
    }
   ],
   "source": [
    "\n",
    "print(\"Accuracy:\")\n",
    "#Random Forest:\n",
    "clfR = RandomForestClassifier()\n",
    "clfR = clfR.fit(xtrain, ytrain)\n",
    "y_predR = clfR.predict(xtest)\n",
    "rf_y_score = metrics.accuracy_score(ytest, y_predR)\n",
    "print(\"Random Forest sin creación de clusters previa: %f\" % rf_y_score)"
   ]
  },
  {
   "cell_type": "markdown",
   "metadata": {},
   "source": [
    "### Modelo CON 10 Clusters"
   ]
  },
  {
   "cell_type": "code",
   "execution_count": 37,
   "metadata": {},
   "outputs": [],
   "source": [
    "k=10\n",
    "km = KMeans(n_clusters=k, init=\"k-means++\", n_init=10, \n",
    "                      max_iter=300, tol=0.0001, precompute_distances=\"auto\", \n",
    "                      verbose=0, random_state=None, copy_x=True, \n",
    "                      n_jobs=1, algorithm=\"auto\").fit(X)\n",
    "label = km.labels_\n",
    "\n",
    "#Aca se dividen data clusterizado\n",
    "msk = np.random.rand(len(ABALONE)) < 0.80\n",
    "train = ABALONE[msk]\n",
    "ytrain = train[\"Rings\"]\n",
    "xtrain = train.drop('Rings', 1)\n",
    "\n",
    "test = ABALONE[~msk]\n",
    "ytest = test[\"Rings\"]\n",
    "xtest = test.drop('Rings', 1)\n",
    "\n",
    "labeln = label[msk]\n",
    "labelt = label[~msk]\n",
    "\n",
    "#Normalize data:\n",
    "scaler = preprocessing.StandardScaler().fit(xtrain)\n",
    "xtrain=scaler.transform(xtrain)\n",
    "xtest=scaler.transform(xtest)"
   ]
  },
  {
   "cell_type": "markdown",
   "metadata": {},
   "source": [
    "### Modelo Bosque Aleatorio despues de realizar 10-Medias"
   ]
  },
  {
   "cell_type": "code",
   "execution_count": 39,
   "metadata": {},
   "outputs": [
    {
     "name": "stdout",
     "output_type": "stream",
     "text": [
      "Predicción cluster: 0\n",
      "Random Forest: 0.162791\n",
      "Predicción cluster: 1\n",
      "Random Forest: 0.208333\n",
      "Predicción cluster: 2\n",
      "Random Forest: 0.212389\n",
      "Predicción cluster: 3\n",
      "Random Forest: 0.166667\n",
      "Predicción cluster: 4\n",
      "Random Forest: 0.216216\n",
      "Predicción cluster: 5\n",
      "Random Forest: 0.282609\n",
      "Predicción cluster: 6\n",
      "Random Forest: 0.153846\n",
      "Predicción cluster: 7\n",
      "Random Forest: 0.128440\n",
      "Predicción cluster: 8\n",
      "Random Forest: 0.216216\n",
      "Predicción cluster: 9\n",
      "Random Forest: 0.336449\n"
     ]
    }
   ],
   "source": [
    "import warnings\n",
    "warnings.filterwarnings('ignore')\n",
    "k_hl = np.zeros(k)\n",
    "k_rf = np.zeros(k)\n",
    "for i in range(k):\n",
    "    #hl_clf = MLPClassifier(solver='adam', alpha=1,random_state=10, hidden_layer_sizes=(9,9,9))\n",
    "    clfR = RandomForestClassifier()\n",
    "    \n",
    "    X_tr = xtrain[labeln == i]\n",
    "    Y_tr = ytrain[labeln == i]\n",
    "    #Neural net\n",
    "    #hl_clf.fit(X_tr, Y_tr.ravel()) \n",
    "    #Random Forest:\n",
    "    clfR = clfR.fit(xtrain, ytrain)\n",
    "    \n",
    "    #Resultados:\n",
    "    print(\"Predicción cluster:\",i)\n",
    "    #hl_ypred = hl_clf.predict(xtest[labelt == i])\n",
    "    #k_hl[i] = metrics.accuracy_score(ytest[labelt == i], hl_ypred)\n",
    "    #print(\"Deep NN:       %f\" % k_hl[i])\n",
    "    y_predR = clfR.predict(xtest[labelt == i])\n",
    "    k_rf[i] = metrics.accuracy_score(ytest[labelt == i], y_predR)\n",
    "    print(\"Random Forest: %f\" % k_rf[i])"
   ]
  },
  {
   "cell_type": "markdown",
   "metadata": {},
   "source": [
    "# Comparativo"
   ]
  },
  {
   "cell_type": "code",
   "execution_count": 53,
   "metadata": {
    "scrolled": true
   },
   "outputs": [
    {
     "data": {
      "image/png": "[encoded data removed]",
      "text/plain": [
       "<matplotlib.figure.Figure at 0x21d7f554cf8>"
      ]
     },
     "metadata": {},
     "output_type": "display_data"
    }
   ],
   "source": [
    "plt.figure(figsize=(15,6))\n",
    "plt.plot([0,k-1],[rf_y_score,rf_y_score])\n",
    "plt.plot(range(0,k),k_rf)\n",
    "#El promedio de los resultados de cada cluster\n",
    "prf = np.mean(k_rf)\n",
    "plt.plot([0,k-1],[prf,prf])\n",
    "plt.legend([\"Antes K-means\",\"Después K-means\",\"Promedio con K-means clustering\"])\n",
    "plt.title(\"Random Forest\")\n",
    "\n",
    "plt.show()"
   ]
  },
  {
   "cell_type": "markdown",
   "metadata": {},
   "source": [
    "En la gráfica se ve cómo la accuracy con k-means fue muy variantey en algunos casos (como el cluster = 5) fue más alto, sin embargo el promedio del accuracy \"general\" fue de: "
   ]
  },
  {
   "cell_type": "code",
   "execution_count": 57,
   "metadata": {},
   "outputs": [
    {
     "name": "stdout",
     "output_type": "stream",
     "text": [
      "20 %\n"
     ]
    }
   ],
   "source": [
    "print(int(prf*100),'%')"
   ]
  },
  {
   "cell_type": "markdown",
   "metadata": {},
   "source": [
    "Y cuando se compara con la accuracy sin aplicar el preprocesimiento por k-means fue de:"
   ]
  },
  {
   "cell_type": "code",
   "execution_count": 59,
   "metadata": {},
   "outputs": [
    {
     "name": "stdout",
     "output_type": "stream",
     "text": [
      "23 %\n"
     ]
    }
   ],
   "source": [
    "print(int(rf_y_score*100),'%')"
   ]
  },
  {
   "cell_type": "markdown",
   "metadata": {},
   "source": [
    "Por lo que en este caso, el preprocesamiento por K-means significo una perdida de accuracy de :"
   ]
  },
  {
   "cell_type": "code",
   "execution_count": 61,
   "metadata": {},
   "outputs": [
    {
     "name": "stdout",
     "output_type": "stream",
     "text": [
      "2 %\n"
     ]
    }
   ],
   "source": [
    "print(int((rf_y_score - prf)*100),'%')"
   ]
  }
 ],
 "metadata": {
  "kernelspec": {
   "display_name": "Python 3",
   "language": "python",
   "name": "python3"
  },
  "language_info": {
   "codemirror_mode": {
    "name": "ipython",
    "version": 3
   },
   "file_extension": ".py",
   "mimetype": "text/x-python",
   "name": "python",
   "nbconvert_exporter": "python",
   "pygments_lexer": "ipython3",
   "version": "3.6.1"
  }
 },
 "nbformat": 4,
 "nbformat_minor": 2
}
